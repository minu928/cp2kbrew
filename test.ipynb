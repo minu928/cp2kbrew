{
 "cells": [
  {
   "cell_type": "code",
   "execution_count": 1,
   "metadata": {},
   "outputs": [],
   "source": [
    "import os\n",
    "import sys\n",
    "\n",
    "MOTHER_PATH = \".\"\n",
    "# sys.path.append(MOTHER_PATH)\n",
    "\n",
    "trjpdb = f\"{MOTHER_PATH}/src/files/cp2k/2022.2/trajectory_format/test.pdb\"\n",
    "trjxyz = f\"{MOTHER_PATH}/src/files/cp2k/2022.2/npt/TEST-pos-1.xyz\"\n",
    "outlog = f\"{MOTHER_PATH}/src/files/cp2k/2022.2/npt/out.log\""
   ]
  },
  {
   "cell_type": "code",
   "execution_count": 2,
   "metadata": {},
   "outputs": [
    {
     "name": "stdout",
     "output_type": "stream",
     "text": [
      "ENERGY: -1100.61254 hatree\n",
      "ENERGY: -29949.19294 eV\n"
     ]
    },
    {
     "name": "stderr",
     "output_type": "stream",
     "text": [
      "500.0it [00:00, 4224.29it/s]"
     ]
    },
    {
     "name": "stdout",
     "output_type": "stream",
     "text": [
      "ENERGY: -1100.61254 hatree\n",
      "ENERGY: -29949.19294 eV\n"
     ]
    },
    {
     "name": "stderr",
     "output_type": "stream",
     "text": [
      "\n"
     ]
    }
   ],
   "source": [
    "import cp2kbrew as cpb\n",
    "\n",
    "\n",
    "logfile_path = \"somewere/out.log\"\n",
    "trjfile_path = \"somewere/out.xyz\"\n",
    "trjopener = cpb.TrjOpener(trjfile=trjxyz)\n",
    "print(f\"ENERGY: {trjopener.energy[0,0]:.5f} {trjopener.unit['energy']}\")\n",
    "trjopener.convert_unit(to={\"energy\": \"eV\"})\n",
    "print(f\"ENERGY: {trjopener.energy[0,0]:.5f} {trjopener.unit['energy']}\")\n",
    "trjopener = cpb.TrjOpener(trjfile=trjxyz)\n",
    "trjopener.gather()\n",
    "print(f\"ENERGY: {trjopener.energy[0,0]:.5f} {trjopener.unit['energy']}\")\n",
    "trjopener.convert_unit(to={\"energy\": \"eV\"})\n",
    "print(f\"ENERGY: {trjopener.energy[0,0]:.5f} {trjopener.unit['energy']}\")"
   ]
  }
 ],
 "metadata": {
  "kernelspec": {
   "display_name": "cp2kbrew",
   "language": "python",
   "name": "python3"
  },
  "language_info": {
   "codemirror_mode": {
    "name": "ipython",
    "version": 3
   },
   "file_extension": ".py",
   "mimetype": "text/x-python",
   "name": "python",
   "nbconvert_exporter": "python",
   "pygments_lexer": "ipython3",
   "version": "3.10.14"
  }
 },
 "nbformat": 4,
 "nbformat_minor": 2
}
