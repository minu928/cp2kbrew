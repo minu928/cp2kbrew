{
 "cells": [
  {
   "cell_type": "code",
   "execution_count": 1,
   "metadata": {},
   "outputs": [
    {
     "name": "stdout",
     "output_type": "stream",
     "text": [
      "[STEP 01] -> gather\n"
     ]
    },
    {
     "name": "stderr",
     "output_type": "stream",
     "text": [
      "[OPEN LOG]: 17it [00:00, 210.07it/s]\n",
      "[OPEN TRJ]: 18it [00:00, 2912.04it/s]"
     ]
    },
    {
     "name": "stdout",
     "output_type": "stream",
     "text": [
      "[STEP 02] -> check\n",
      "[STEP 03] -> fix\n",
      "\tFinal frame data is empty in LOG file.\n",
      "[RESULT]: SUCCESS\n"
     ]
    },
    {
     "name": "stderr",
     "output_type": "stream",
     "text": [
      "\n"
     ]
    },
    {
     "data": {
      "text/plain": [
       "(17, 3, 3)"
      ]
     },
     "execution_count": 1,
     "metadata": {},
     "output_type": "execute_result"
    }
   ],
   "source": [
    "import cp2kbrew as cb\n",
    "\n",
    "path = \"/nas_2/minu928/2_AqueousEletrolytes/cp2kbrew/src/files/cp2k/2022.2/errors/log_less_error\"\n",
    "a = cb.Alchemist(logfile=path + \"/out.log\", trjfile=path + \"/out-pos-1.xyz\")\n",
    "a.cell.shape"
   ]
  }
 ],
 "metadata": {
  "kernelspec": {
   "display_name": "atombrew",
   "language": "python",
   "name": "python3"
  },
  "language_info": {
   "codemirror_mode": {
    "name": "ipython",
    "version": 3
   },
   "file_extension": ".py",
   "mimetype": "text/x-python",
   "name": "python",
   "nbconvert_exporter": "python",
   "pygments_lexer": "ipython3",
   "version": "3.10.14"
  }
 },
 "nbformat": 4,
 "nbformat_minor": 2
}
