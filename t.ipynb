{
 "cells": [
  {
   "cell_type": "code",
   "execution_count": 1,
   "metadata": {},
   "outputs": [
    {
     "name": "stderr",
     "output_type": "stream",
     "text": [
      "[OPEN LOG]: 17 frame [00:00, 202.54 frame/s]\n",
      "[OPEN TRJ]: 14 frame [00:00, 2589.99 frame/s]"
     ]
    },
    {
     "name": "stdout",
     "output_type": "stream",
     "text": [
      "Input error is NoisyRestartError\n",
      " -> Try Fix...\n",
      "\tTRJ(0) -> LOG(1)\n",
      "\tTRJ(1) -> LOG(2)\n",
      "\tTRJ(2) -> LOG(3)\n",
      "\tTRJ(3) -> LOG(4)\n",
      "\tTRJ(4) -> LOG(6)\n",
      "\tTRJ(5) -> LOG(7)\n",
      "\tTRJ(6) -> LOG(8)\n",
      "\tTRJ(7) -> LOG(9)\n",
      "\tTRJ(8) -> LOG(10)\n",
      "\tTRJ(9) -> LOG(11)\n",
      "\tTRJ(10) -> LOG(12)\n",
      "\tTRJ(11) -> LOG(14)\n",
      "\tTRJ(12) -> LOG(15)\n",
      "\tTRJ(13) -> LOG(16)\n",
      " -> Check Energy Tolerance\n",
      " -> Success\n"
     ]
    },
    {
     "name": "stderr",
     "output_type": "stream",
     "text": [
      "\n"
     ]
    }
   ],
   "source": [
    "import cp2kbrew as cb\n",
    "\n",
    "path = \"./src/files/cp2k/2022.2/errors/log_less_error\"\n",
    "path = \"./src/files/cp2k/2022.2/errors/noisy_restart\"\n",
    "# path = \"./src/files/cp2k/2022.2/errors/restart_first_frame_error\"\n",
    "trjfile = path + \"/out-pos-1.xyz\"\n",
    "logfile = path + \"/out.log\"\n",
    "brewer = cb.Brewer(logfile, trjfile)"
   ]
  },
  {
   "cell_type": "code",
   "execution_count": 2,
   "metadata": {},
   "outputs": [
    {
     "name": "stdout",
     "output_type": "stream",
     "text": [
      "None\n",
      "Input error is None\n"
     ]
    },
    {
     "data": {
      "text/plain": [
       "True"
      ]
     },
     "execution_count": 2,
     "metadata": {},
     "output_type": "execute_result"
    }
   ],
   "source": [
    "error = brewer.check()\n",
    "print(error)\n",
    "brewer.fix(error, verbose=True)"
   ]
  },
  {
   "cell_type": "code",
   "execution_count": null,
   "metadata": {},
   "outputs": [],
   "source": []
  }
 ],
 "metadata": {
  "kernelspec": {
   "display_name": "atombrew",
   "language": "python",
   "name": "python3"
  },
  "language_info": {
   "codemirror_mode": {
    "name": "ipython",
    "version": 3
   },
   "file_extension": ".py",
   "mimetype": "text/x-python",
   "name": "python",
   "nbconvert_exporter": "python",
   "pygments_lexer": "ipython3",
   "version": "3.10.14"
  }
 },
 "nbformat": 4,
 "nbformat_minor": 2
}
