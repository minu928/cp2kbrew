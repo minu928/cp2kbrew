{
 "cells": [
  {
   "cell_type": "code",
   "execution_count": 3,
   "metadata": {},
   "outputs": [
    {
     "name": "stderr",
     "output_type": "stream",
     "text": [
      "[OPEN LOG]: 17 frame [00:00, 310.06 frame/s]\n",
      "[OPEN TRJ]: 14 frame [00:00, 3685.22 frame/s]\n"
     ]
    }
   ],
   "source": [
    "import cp2kbrew as cb\n",
    "\n",
    "path = \"./src/files/cp2k/2022.2/errors/log_less_error\"\n",
    "path = \"./src/files/cp2k/2022.2/errors/noisy_restart\"\n",
    "# path = \"./src/files/cp2k/2022.2/errors/restart_first_frame_error\"\n",
    "trjfile = path + \"/out-pos-1.xyz\"\n",
    "logfile = path + \"/out.log\"\n",
    "brewer = cb.Brewer(logfile, trjfile).gather()"
   ]
  },
  {
   "cell_type": "code",
   "execution_count": 5,
   "metadata": {},
   "outputs": [
    {
     "name": "stdout",
     "output_type": "stream",
     "text": [
      "None\n",
      "Input error is None\n"
     ]
    },
    {
     "data": {
      "text/plain": [
       "True"
      ]
     },
     "execution_count": 5,
     "metadata": {},
     "output_type": "execute_result"
    }
   ],
   "source": [
    "error = brewer.check()\n",
    "print(error)\n",
    "brewer.fix(error, verbose=True)"
   ]
  },
  {
   "cell_type": "code",
   "execution_count": null,
   "metadata": {},
   "outputs": [],
   "source": []
  }
 ],
 "metadata": {
  "kernelspec": {
   "display_name": "atombrew",
   "language": "python",
   "name": "python3"
  },
  "language_info": {
   "codemirror_mode": {
    "name": "ipython",
    "version": 3
   },
   "file_extension": ".py",
   "mimetype": "text/x-python",
   "name": "python",
   "nbconvert_exporter": "python",
   "pygments_lexer": "ipython3",
   "version": "3.9.19"
  }
 },
 "nbformat": 4,
 "nbformat_minor": 2
}
