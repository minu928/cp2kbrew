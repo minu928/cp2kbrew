{
 "cells": [
  {
   "cell_type": "code",
   "execution_count": null,
   "metadata": {},
   "outputs": [],
   "source": [
    "import re\n",
    "import numpy as np\n",
    "from typing import List\n",
    "from abc import ABCMeta, abstractmethod\n",
    "\n",
    "\n",
    "class DataClass(metaclass=ABCMeta):\n",
    "    data = None\n",
    "    patterns: List[re.Pattern] = []\n",
    "\n",
    "    @abstractmethod\n",
    "    def load_data(self, data) -> None:\n",
    "        pass\n",
    "    \n",
    "    def load_line(self, line: str) -> bool:\n",
    "        for pattern in self.patterns:\n",
    "            if data := pattern.match(line)"
   ]
  },
  {
   "cell_type": "code",
   "execution_count": null,
   "metadata": {},
   "outputs": [],
   "source": [
    "class Cell(DataClass):\n",
    "    data = np.zeros(3, dtype=float)\n",
    "    patterns = [\n",
    "        # re.compile(r\"\\s+CELL\\|\\s+Vector\\s+[a-c]\\s+\\[angstrom\\]:\\s+(?P<x>\\S+)\\s+(?P<y>\\S+)\\s+(?P<z>\\S+)\\s+\"),\n",
    "        re.compile(r\"\\s+[^0-9]+\\|\\s+Cell lengths \\[ang\\]\\s+(?P<x>\\S+)\\s+(?P<y>\\S+)\\s+(?P<z>\\S+)\"),\n",
    "    ]\n",
    "\n",
    "    def load_data(self, data) -> None:\n",
    "        self.data = np.array([data[\"x\"], data[\"y\"], data[\"z\"]], dtype=float)"
   ]
  },
  {
   "cell_type": "code",
   "execution_count": null,
   "metadata": {},
   "outputs": [],
   "source": [
    "class Force(DataClass):\n",
    "    data = []\n",
    "    patterns = [re.compile(\"\\s+# Atom\\s+Kind\\s+Element\\s+X\\s+Y\\s+Z\")]\n",
    "    \n",
    "    def load_data(self, data) -> None:\n",
    "        for "
   ]
  },
  {
   "cell_type": "code",
   "execution_count": 70,
   "metadata": {},
   "outputs": [
    {
     "name": "stdout",
     "output_type": "stream",
     "text": [
      "[12.425 12.425 12.425]\n",
      "[12.4145965 12.4145965 12.4145965]\n"
     ]
    }
   ],
   "source": [
    "# %%\n",
    "import numpy as np\n",
    "\n",
    "\n",
    "class Opener:\n",
    "    oneframement = \"ASPC order\"\n",
    "\n",
    "    def __init__(self, logfile, xyzfile) -> None:\n",
    "        self.logfile = self.read_logfile(logfile)\n",
    "        self.xyzfile = xyzfile\n",
    "\n",
    "    # def generate_logdata(self):\n",
    "    #     data_dict: dict[str, DataClass] = {\"cell\": Cell(), \"force\": Force()}\n",
    "    #     with open(self.logfile) as log:\n",
    "    #         while this_line := log.readline():\n",
    "    #             for key, dataclass in data_dict.items():\n",
    "    #                 for pattern in dataclass.patterns:\n",
    "    #                     if data := pattern.match(this_line):\n",
    "    #                         dataclass.load_data(data)\n",
    "    #             if self.oneframement in this_line:\n",
    "    #                 yield data_dict\n",
    "    def read_logfile(self, logfile):\n",
    "        with open(logfile) as log:\n",
    "            while this_line := log.readline():\n",
    "                yield this_line\n",
    "\n",
    "    def generate_logdata(self):\n",
    "        data_dict: dict[str, DataClass] = {\"cell\": Cell(), \"force\": Force()}\n",
    "        for this_line in self.read_logfile():\n",
    "            for key, dataclass in data_dict.items():\n",
    "                dataclass.load_line(line=thie_line)\n",
    "\n",
    "\n",
    "if __name__ == \"__main__\":\n",
    "    opener = Opener(logfile=\"./src/2022.2/out.log\", xyzfile=\"./NAME-pos-1.xyz\")\n",
    "    gen = opener.generate_logdata()\n",
    "    data_dict = next(gen)\n",
    "    print(data_dict[\"cell\"].data)\n",
    "    data_dict = next(gen)\n",
    "    print(data_dict[\"cell\"].data)"
   ]
  }
 ],
 "metadata": {
  "kernelspec": {
   "display_name": "dpmd",
   "language": "python",
   "name": "python3"
  },
  "language_info": {
   "codemirror_mode": {
    "name": "ipython",
    "version": 3
   },
   "file_extension": ".py",
   "mimetype": "text/x-python",
   "name": "python",
   "nbconvert_exporter": "python",
   "pygments_lexer": "ipython3",
   "version": "3.8.3"
  }
 },
 "nbformat": 4,
 "nbformat_minor": 2
}
